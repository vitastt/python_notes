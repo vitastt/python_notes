{
 "cells": [
  {
   "cell_type": "code",
   "execution_count": 1,
   "metadata": {},
   "outputs": [
    {
     "name": "stdout",
     "output_type": "stream",
     "text": [
      "1 * 1 = 1  \n",
      "1 * 2 = 2  2 * 2 = 4  \n",
      "1 * 3 = 3  2 * 3 = 6  3 * 3 = 9  \n",
      "1 * 4 = 4  2 * 4 = 8  3 * 4 = 12  4 * 4 = 16  \n",
      "1 * 5 = 5  2 * 5 = 10  3 * 5 = 15  4 * 5 = 20  5 * 5 = 25  \n",
      "1 * 6 = 6  2 * 6 = 12  3 * 6 = 18  4 * 6 = 24  5 * 6 = 30  6 * 6 = 36  \n"
     ]
    }
   ],
   "source": [
    "# 形参默认值\n",
    "def fn(size=9):\n",
    "    if size <= 1:\n",
    "        print(\"参数不大于1无法生成表！\")\n",
    "    elif size > 1:\n",
    "        for i in range(1,size+1):\n",
    "            for j in range(1,i + 1):\n",
    "#                 print(\"{0}*{1}={2}\".format(j,i,i * j), end=\"  \") #结果集合并写法\n",
    "                print(j,\"*\",i,\"=\",i*j,end=\"  \") #分开显示，不用format\n",
    "            print(\"\")\n",
    "# fn() #可以不带参数，仅方法函数参数带默认时可以使用\n",
    "# fn(10)\n",
    "fn(size=6) # 无视参数顺序，直接指定参数赋值"
   ]
  }
 ],
 "metadata": {
  "kernelspec": {
   "display_name": "Python 3",
   "language": "python",
   "name": "python3"
  },
  "language_info": {
   "codemirror_mode": {
    "name": "ipython",
    "version": 3
   },
   "file_extension": ".py",
   "mimetype": "text/x-python",
   "name": "python",
   "nbconvert_exporter": "python",
   "pygments_lexer": "ipython3",
   "version": "3.7.0"
  }
 },
 "nbformat": 4,
 "nbformat_minor": 2
}
