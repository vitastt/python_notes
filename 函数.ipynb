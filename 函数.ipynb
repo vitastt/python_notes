{
 "cells": [
  {
   "cell_type": "code",
   "execution_count": 10,
   "metadata": {},
   "outputs": [
    {
     "name": "stdout",
     "output_type": "stream",
     "text": [
      "<class 'tuple'>\n",
      "1\n",
      "2\n",
      "3\n",
      "adas\n",
      "asdfa\n",
      "<class 'tuple'>\n"
     ]
    }
   ],
   "source": [
    "# 集合参数 收集参数\n",
    "def func( *args):\n",
    "    print(type(args)) # 参数类型 <class 'tuple'> 数组\n",
    "    for item in args:\n",
    "        print(item)\n",
    "# 调用时可以多参数，最后会被收集到*args的集合中        \n",
    "func(1,2,3,\"adas\",\"asdfa\")\n",
    "func()"
   ]
  },
  {
   "cell_type": "code",
   "execution_count": 9,
   "metadata": {},
   "outputs": [
    {
     "name": "stdout",
     "output_type": "stream",
     "text": [
      "<class 'dict'>\n",
      "a  =  1\n",
      "b  =  2\n",
      "c  =  3\n",
      "d  =  adas\n",
      "e  =  asdfa\n",
      "<class 'dict'>\n"
     ]
    }
   ],
   "source": [
    "#字典集合参数，循环字典方法\n",
    "def func( **args):\n",
    "    print(type(args)) # 参数类型 <class 'dict'> 字典\n",
    "    for k,v in args.items():\n",
    "        print(k,\" = \",v)\n",
    "# 调用时参数需要指定key=value        \n",
    "func(a=1,b=2,c=3,d=\"adas\",e=\"asdfa\")\n",
    "func()"
   ]
  },
  {
   "cell_type": "code",
   "execution_count": 17,
   "metadata": {},
   "outputs": [
    {
     "name": "stdout",
     "output_type": "stream",
     "text": [
      "i am name is hali, i am age is 18\n",
      "i am name is halibote, i am age is 17\n",
      "wakaka\n",
      "wulala\n",
      "item1 - 123\n",
      "item2 - 456\n",
      "item3 - 789\n"
     ]
    }
   ],
   "source": [
    "# 不同类型的参数 混合使用\n",
    "# 混合使用时，普通参数统一在前面，带key的参数统一放到后面，否则编译不过\n",
    "def func(name, age, *args, **kargs):\n",
    "    print(\"i am name is {0}, i am age is {1}\".format(name,age))\n",
    "    for v in args:\n",
    "        print(v)\n",
    "    for k,v in kargs.items():\n",
    "        print(k,\"-\",v)\n",
    "func(\"hali\",18)\n",
    "func(\"halibote\",17,\"wakaka\",\"wulala\",item1=\"123\",item2=\"456\",item3=\"789\")"
   ]
  },
  {
   "cell_type": "code",
   "execution_count": 24,
   "metadata": {},
   "outputs": [
    {
     "name": "stdout",
     "output_type": "stream",
     "text": [
      "<class 'tuple'>\n",
      "[4, 5, 6]\n",
      "<class 'list'>\n",
      "4\n",
      "5\n",
      "6\n",
      "<class 'tuple'>\n",
      "4\n",
      "5\n",
      "6\n"
     ]
    }
   ],
   "source": [
    "# 收集参数没办法转换为集合list，如果参数为list，只能当做普通参数传入即可\n",
    "# 收集参数不可以接收集合\n",
    "# 如果收集参数想使用集合，需要解包\n",
    "def func(*args):\n",
    "    print(type(args))\n",
    "    for v in args:\n",
    "        print(v)\n",
    "# 普通参数可以接收集合\n",
    "def func2(args):\n",
    "    print(type(args))\n",
    "    for v in args:\n",
    "        print(v)\n",
    "\n",
    "l2 = [4, 5, 6]\n",
    "func(l2) #正常无法遍历集合\n",
    "func(*l2) #通过解包可以遍历\n",
    "func2(l2) #普通参数也可以遍历\n"
   ]
  },
  {
   "cell_type": "code",
   "execution_count": 38,
   "metadata": {},
   "outputs": [
    {
     "name": "stdout",
     "output_type": "stream",
     "text": [
      "Help on function func in module __main__:\n",
      "\n",
      "func(name, age)\n",
      "    没用print()方法1\n",
      "    第二行\n",
      "    第三行\n",
      "\n",
      "\n",
      "    没用print()方法1\n",
      "    第二行\n",
      "    第三行\n",
      "    \n"
     ]
    }
   ],
   "source": [
    "# 查看函数文档的方法,方法注释\n",
    "def func(name, age):\n",
    "    '''\n",
    "    没用print()方法1\n",
    "    第二行\n",
    "    第三行\n",
    "    ''' #用于在文档中显示\n",
    "    print(\"方法已执行\")\n",
    "help(func)\n",
    "print(func.__doc__)  # 会显示文本中所有元素，包括换行符\n",
    "# func(\"lala\",18)"
   ]
  },
  {
   "cell_type": "code",
   "execution_count": 3,
   "metadata": {},
   "outputs": [],
   "source": []
  }
 ],
 "metadata": {
  "kernelspec": {
   "display_name": "Python 3",
   "language": "python",
   "name": "python3"
  },
  "language_info": {
   "codemirror_mode": {
    "name": "ipython",
    "version": 3
   },
   "file_extension": ".py",
   "mimetype": "text/x-python",
   "name": "python",
   "nbconvert_exporter": "python",
   "pygments_lexer": "ipython3",
   "version": "3.7.0"
  }
 },
 "nbformat": 4,
 "nbformat_minor": 2
}
