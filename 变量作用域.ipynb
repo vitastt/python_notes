{
 "cells": [
  {
   "cell_type": "code",
   "execution_count": 6,
   "metadata": {},
   "outputs": [
    {
     "name": "stdout",
     "output_type": "stream",
     "text": [
      "1\n"
     ]
    }
   ],
   "source": [
    "def fun():\n",
    "    global n # 全局定义时，赋值不能写在一起，需要分开\n",
    "    n = 1\n",
    "    \n",
    "fun()\n",
    "print(n)"
   ]
  },
  {
   "cell_type": "code",
   "execution_count": 7,
   "metadata": {},
   "outputs": [
    {
     "name": "stdout",
     "output_type": "stream",
     "text": [
      "local={'c': 3, 'd': 4, 'e': 5}\n",
      "global={'__name__': '__main__', '__doc__': 'Automatically created module for IPython interactive environment', '__package__': None, '__loader__': None, '__spec__': None, '__builtin__': <module 'builtins' (built-in)>, '__builtins__': <module 'builtins' (built-in)>, '_ih': ['', 'def fun():\\n    global n = 1\\n    \\nprint(n)', 'def fun():\\n    global n\\n    n = 1\\nprint(n)', 'def fun():\\n    global n\\n    n = 1\\nfun()\\nprint(n)', 'def fun():\\n    global n = 1\\n    \\nfun()\\nprint(n)', 'def fun():\\n    global n = 1\\n    \\nfun()\\nprint(n)', 'def fun():\\n    global n\\n    n = 1\\nfun()\\nprint(n)', 'a = 1\\nb = 2\\ndef fun(c,d):\\n    e = 5\\n    print(\"local={0}\".format(locals()))\\n    print(\"global={0}\".format(globals()))\\nfun(3,4)'], '_oh': {}, '_dh': ['C:\\\\Users\\\\zhongwang\\\\Desktop\\\\py笔记'], 'In': ['', 'def fun():\\n    global n = 1\\n    \\nprint(n)', 'def fun():\\n    global n\\n    n = 1\\nprint(n)', 'def fun():\\n    global n\\n    n = 1\\nfun()\\nprint(n)', 'def fun():\\n    global n = 1\\n    \\nfun()\\nprint(n)', 'def fun():\\n    global n = 1\\n    \\nfun()\\nprint(n)', 'def fun():\\n    global n\\n    n = 1\\nfun()\\nprint(n)', 'a = 1\\nb = 2\\ndef fun(c,d):\\n    e = 5\\n    print(\"local={0}\".format(locals()))\\n    print(\"global={0}\".format(globals()))\\nfun(3,4)'], 'Out': {}, 'get_ipython': <bound method InteractiveShell.get_ipython of <ipykernel.zmqshell.ZMQInteractiveShell object at 0x0000000001DC6320>>, 'exit': <IPython.core.autocall.ZMQExitAutocall object at 0x0000000004BBE9B0>, 'quit': <IPython.core.autocall.ZMQExitAutocall object at 0x0000000004BBE9B0>, '_': '', '__': '', '___': '', '_i': 'def fun():\\n    global n\\n    n = 1\\nfun()\\nprint(n)', '_ii': 'def fun():\\n    global n = 1\\n    \\nfun()\\nprint(n)', '_iii': 'def fun():\\n    global n = 1\\n    \\nfun()\\nprint(n)', '_i1': 'def fun():\\n    global n = 1\\n    \\nprint(n)', '_i2': 'def fun():\\n    global n\\n    n = 1\\nprint(n)', 'fun': <function fun at 0x0000000005133158>, '_i3': 'def fun():\\n    global n\\n    n = 1\\nfun()\\nprint(n)', 'n': 1, '_i4': 'def fun():\\n    global n = 1\\n    \\nfun()\\nprint(n)', '_i5': 'def fun():\\n    global n = 1\\n    \\nfun()\\nprint(n)', '_i6': 'def fun():\\n    global n\\n    n = 1\\nfun()\\nprint(n)', '_i7': 'a = 1\\nb = 2\\ndef fun(c,d):\\n    e = 5\\n    print(\"local={0}\".format(locals()))\\n    print(\"global={0}\".format(globals()))\\nfun(3,4)', 'a': 1, 'b': 2}\n"
     ]
    }
   ],
   "source": [
    "a = 1\n",
    "b = 2\n",
    "def fun(c,d):\n",
    "    e = 5\n",
    "    print(\"local={0}\".format(locals()))\n",
    "    print(\"global={0}\".format(globals()))\n",
    "fun(3,4)"
   ]
  },
  {
   "cell_type": "code",
   "execution_count": 14,
   "metadata": {},
   "outputs": [
    {
     "name": "stdout",
     "output_type": "stream",
     "text": [
      "150\n",
      "None\n",
      "50\n"
     ]
    }
   ],
   "source": [
    "# eval将字符串转换为代码,并返回结果\n",
    "# exec将字符串转换为代码,但不返回结果\n",
    "x = 100\n",
    "y = 50\n",
    "z = eval(\"x+y\")\n",
    "m = exec(\"n=x-y\")\n",
    "print(z)\n",
    "print(m)\n",
    "print(n)"
   ]
  },
  {
   "cell_type": "code",
   "execution_count": null,
   "metadata": {},
   "outputs": [],
   "source": []
  }
 ],
 "metadata": {
  "kernelspec": {
   "display_name": "Python 3",
   "language": "python",
   "name": "python3"
  },
  "language_info": {
   "codemirror_mode": {
    "name": "ipython",
    "version": 3
   },
   "file_extension": ".py",
   "mimetype": "text/x-python",
   "name": "python",
   "nbconvert_exporter": "python",
   "pygments_lexer": "ipython3",
   "version": "3.7.0"
  }
 },
 "nbformat": 4,
 "nbformat_minor": 2
}
