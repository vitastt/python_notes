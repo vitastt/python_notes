{
 "cells": [
  {
   "cell_type": "code",
   "execution_count": null,
   "metadata": {},
   "outputs": [],
   "source": [
    "# 递归函数\n",
    "# 递归有深度限时\n",
    "# 当达到一定次数时，py自动报错RecursionError: maximum recursion depth exceeded while calling a Python object\n",
    "def fun(x, y):\n",
    "    x += 1\n",
    "    y += 1\n",
    "    print(\"当前x = {0}, y = {1}\".format(x,y))\n",
    "    if(x + y > 555):\n",
    "        return x + y\n",
    "    fun(x, y)\n",
    "fun(1,1)"
   ]
  },
  {
   "cell_type": "code",
   "execution_count": 4,
   "metadata": {},
   "outputs": [
    {
     "name": "stdout",
     "output_type": "stream",
     "text": [
      "1\n",
      "2\n",
      "3\n",
      "5\n",
      "8\n",
      "13\n",
      "21\n",
      "34\n",
      "55\n",
      "89\n",
      "144\n",
      "233\n",
      "377\n",
      "610\n",
      "987\n",
      "1597\n",
      "2584\n",
      "4181\n",
      "6765\n",
      "循环结束\n"
     ]
    }
   ],
   "source": [
    "# 斐波那契数列\n",
    "# n = (n-1)+(n-2)\n",
    "# 定义m < n\n",
    "def fun(m, n):\n",
    "    if(m >= n):\n",
    "        print(\"参数前小后大，否则不规则\")\n",
    "        return False\n",
    "    k = m + n\n",
    "    print(k)\n",
    "    if (k > 5000):\n",
    "        print(\"循环结束\")\n",
    "        return True\n",
    "    else:\n",
    "        fun(n, k)\n",
    "fun(0,1)\n"
   ]
  },
  {
   "cell_type": "markdown",
   "metadata": {},
   "source": [
    "# 汉诺塔问题\n",
    "    汉诺塔盘子数 = n, 有三个柱子A,B,C,所有盘子 均按照从小到大依次在A上摆放，遵循规则移动到C上\n",
    "        if n = 1\n",
    "            A->C\n",
    "        if n = 2\n",
    "            A->B\n",
    "            A->C\n",
    "            B->C\n",
    "        if n = 3\n",
    "            A->C,A->B,C->B,\n",
    "            A->C,B->A,B->C,\n",
    "            A->C\n",
    "        if n > 3 \n",
    "            ...\n",
    "     逻辑为，先将n-1的所有盘子从A移到B上，这样才能把最大的盘子移动到C上；之后再将n-2的盘子从B移动到A上，将第二大的盘子移动到C上，依次同理，直到全部移动完"
   ]
  },
  {
   "cell_type": "code",
   "execution_count": 19,
   "metadata": {},
   "outputs": [
    {
     "name": "stdout",
     "output_type": "stream",
     "text": [
      "第1步 a  -->  c\n",
      "第2步 a  -->  b\n",
      "第3步 c  -->  b\n",
      "第4步 a  -->  c\n",
      "第5步 b  -->  a\n",
      "第6步 b  -->  c\n",
      "第7步 a  -->  c\n",
      "总共需要移动7次完成汉诺塔！\n"
     ]
    }
   ],
   "source": [
    "step = 0\n",
    "def hano(n,org,mid,tar): \n",
    "    '''\n",
    "    n : 盘子数量\n",
    "    org : 第一个柱子，所有盘子原始所在位置\n",
    "    mid : 第二个柱子，辅助\n",
    "    tar : 第三个柱子，所有盘子目标坐在位置\n",
    "    return : 完成总共需要的次数, 2^n - 1次\n",
    "    '''\n",
    "    global step\n",
    "    if(n == 1):\n",
    "        step += 1\n",
    "        print(\"第{0}步\".format(step),org,\" --> \",tar)\n",
    "    if(n == 2): # N = 2这种情况可以省略\n",
    "        step += 1\n",
    "        print(\"第{0}步\".format(step),org,\" --> \",mid)\n",
    "        step += 1\n",
    "        print(\"第{0}步\".format(step),org,\" --> \",tar)\n",
    "        step += 1\n",
    "        print(\"第{0}步\".format(step),mid,\" --> \",tar)\n",
    "    if(n > 2):\n",
    "        hano(n-1,org,tar,mid)\n",
    "        step += 1\n",
    "        print(\"第{0}步\".format(step),org,\" --> \",tar)\n",
    "        hano(n-1,mid,org,tar)\n",
    "    return step\n",
    "num = hano(3,\"a\",\"b\",\"c\")\n",
    "print(\"总共需要移动{0}次完成汉诺塔！\".format(num))"
   ]
  }
 ],
 "metadata": {
  "kernelspec": {
   "display_name": "Python 3",
   "language": "python",
   "name": "python3"
  },
  "language_info": {
   "codemirror_mode": {
    "name": "ipython",
    "version": 3
   },
   "file_extension": ".py",
   "mimetype": "text/x-python",
   "name": "python",
   "nbconvert_exporter": "python",
   "pygments_lexer": "ipython3",
   "version": "3.7.0"
  }
 },
 "nbformat": 4,
 "nbformat_minor": 2
}
