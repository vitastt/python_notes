{
 "cells": [
  {
   "cell_type": "code",
   "execution_count": 37,
   "metadata": {
    "scrolled": true
   },
   "outputs": [
    {
     "name": "stdout",
     "output_type": "stream",
     "text": [
      "a 是  <class 'list'>\n",
      "6\n",
      "[2, 3, 4, 5, 6]\n",
      "b 是  <class 'str'>\n",
      "11\n",
      "hello \n",
      "c 是  <class 'dict'>\n",
      "2\n",
      "1234567\n",
      "[1, 3, 5]\n",
      "[2, 4, 6]\n",
      "[2, 4, 6]\n",
      "[2, 4, 6]\n",
      "[3, 4]\n",
      "[5, 4]\n",
      "[6, 5, 4, 3, 2, 1]\n"
     ]
    }
   ],
   "source": [
    "a = [1,2,3,4,5,6]                  #<class 'list'>\n",
    "b = \"hello world\"                  #<class 'str'>\n",
    "c = {\"id\":\"1234567\",\"name\":\"qiqi\"} #<class 'dict'>\n",
    "print(\"a 是 \",type(a))\n",
    "print(len(a)) # list长度\n",
    "# 左下标包含（为空时默认-> 0），右下标不包含（为空时默认 len()+1）\n",
    "print(a[1:])\n",
    "\n",
    "print(\"b 是 \",type(b))\n",
    "print(len(b)) # str长度\n",
    "print(b[:6]) # 字符串同样可以当做数组使用，下标规则同理\n",
    "\n",
    "print(\"c 是 \",type(c))\n",
    "print(len(c)) # str长度\n",
    "print(c[\"id\"])\n",
    "# 分割取值 [1:6:1]  从下标1开始，到下标6-1，下标增长幅度为1\n",
    "print(a[::2])\n",
    "print(a[1::2])\n",
    "print(a[1:len(a):2])\n",
    "# 当结束下标大于长度时也可以，超出长度自动忽略\n",
    "print(a[1:7:2]) \n",
    "# 下标为负数，则从右向左逆向，左小右大，从0开始\n",
    "print(a[-4:-2]) \n",
    "# 带增长幅度为负数时，下标也要反过来\n",
    "print(a[-2:-4:-1]) \n",
    "print(a[::-1]) # list倒序排列"
   ]
  },
  {
   "cell_type": "code",
   "execution_count": 53,
   "metadata": {
    "scrolled": true
   },
   "outputs": [
    {
     "name": "stdout",
     "output_type": "stream",
     "text": [
      "8791408570144\n",
      "8791408570176\n",
      "81272328\n",
      "81272328\n",
      "[99, 2, 3, 4, 5, 6]\n",
      "[99, 2, 3, 4, 5, 6]\n",
      "[99, 2, 3, 4, 5, 66]\n",
      "[99, 2, 3, 4, 5, 66]\n"
     ]
    }
   ],
   "source": [
    "# id函数 返回对象的内存地址\n",
    "a = [1,2,3,4,5,6]\n",
    "print(id(a[1]))\n",
    "print(id(a[2]))\n",
    "# 直接赋值 地址相同\n",
    "b = a\n",
    "print(id(a))\n",
    "print(id(b))\n",
    "# 改动一个，会导致另一个变化\n",
    "b[0] = 99\n",
    "print(a)\n",
    "print(b)\n",
    "a[5] = 66\n",
    "print(a)\n",
    "print(b)"
   ]
  },
  {
   "cell_type": "code",
   "execution_count": 50,
   "metadata": {},
   "outputs": [
    {
     "name": "stdout",
     "output_type": "stream",
     "text": [
      "81252872\n",
      "81272392\n",
      "[99, 2, 3, 4, 5, 6]\n",
      "[1, 2, 3, 4, 5, 6]\n"
     ]
    }
   ],
   "source": [
    "# 当分片赋值时，集合指向地址不同，改动其中一个，对另一个不影响\n",
    "l1 = [1,2,3,4,5,6]\n",
    "l2 = l1[:]\n",
    "print(id(l1))\n",
    "print(id(l2))\n",
    "l1[0] = 99\n",
    "print(l1)\n",
    "print(l2)"
   ]
  },
  {
   "cell_type": "code",
   "execution_count": 48,
   "metadata": {},
   "outputs": [
    {
     "name": "stdout",
     "output_type": "stream",
     "text": [
      "8791408570112\n",
      "8791408570112\n",
      "8791408570208\n",
      "4\n",
      "1\n"
     ]
    }
   ],
   "source": [
    "# 当变量改变时，地址发生改变，m,n不再指向同一地址\n",
    "m = 1\n",
    "print(id(m))\n",
    "n = m\n",
    "print(id(n))\n",
    "m = 4\n",
    "print(id(m))\n",
    "print(m)\n",
    "print(n) "
   ]
  },
  {
   "cell_type": "code",
   "execution_count": 59,
   "metadata": {},
   "outputs": [
    {
     "name": "stdout",
     "output_type": "stream",
     "text": [
      "li --- 18 --- hao\n",
      "liu --- 16 --- haola\n",
      "qi --- 15 --- bao\n"
     ]
    }
   ],
   "source": [
    "# 数组中可以多成员，几个成员，循环就几个字段\n",
    "a = [[\"li\",18,\"hao\"],[\"liu\",16,\"haola\"],[\"qi\",15,\"bao\"]]\n",
    "for k,v,x in a:\n",
    "    print(k,\"---\",v,\"---\",x)"
   ]
  },
  {
   "cell_type": "code",
   "execution_count": 56,
   "metadata": {},
   "outputs": [
    {
     "name": "stdout",
     "output_type": "stream",
     "text": [
      "[10, 20, 30, 40, 50]\n"
     ]
    }
   ],
   "source": [
    "# 用list a创建list b\n",
    "a = [1,2,3,4,5]\n",
    "b = [i*10 for i in a]\n",
    "print(b)"
   ]
  },
  {
   "cell_type": "code",
   "execution_count": 67,
   "metadata": {},
   "outputs": [
    {
     "name": "stdout",
     "output_type": "stream",
     "text": [
      "[2, 4, 6, 8, 10, 12, 14, 16, 18]\n",
      "[1, 3, 5, 7, 9, 11, 13, 15, 17, 19]\n",
      "[3, 5, 7, 9, 11, 13, 15, 17, 19, 21, 5, 7, 9, 11, 13, 15, 17, 19, 21, 23, 7, 9, 11, 13, 15, 17, 19, 21, 23, 25, 9, 11, 13, 15, 17, 19, 21, 23, 25, 27, 11, 13, 15, 17, 19, 21, 23, 25, 27, 29, 13, 15, 17, 19, 21, 23, 25, 27, 29, 31, 15, 17, 19, 21, 23, 25, 27, 29, 31, 33, 17, 19, 21, 23, 25, 27, 29, 31, 33, 35, 19, 21, 23, 25, 27, 29, 31, 33, 35, 37]\n"
     ]
    }
   ],
   "source": [
    "# 过滤list中的元素，例如求奇数偶数\n",
    "# 列表生成式 可以和for一起使用\n",
    "a = [i for i in range(1,20)]\n",
    "# 取出a中全部偶数，放到b中\n",
    "b = [x for x in a if x%2==0]\n",
    "print(b)\n",
    "# 取出a中全部奇数，放到c中\n",
    "c = [y for y in a if y%2==1]\n",
    "print(c)\n",
    "# 两个for表达式嵌套相加\n",
    "print([x + y for x in b for y in c])"
   ]
  },
  {
   "cell_type": "code",
   "execution_count": 77,
   "metadata": {
    "scrolled": true
   },
   "outputs": [
    {
     "name": "stdout",
     "output_type": "stream",
     "text": [
      "99\n",
      "99\n",
      "1\n",
      "['s', 'f', 'a', 's', 'f', 'a', 'f']\n"
     ]
    }
   ],
   "source": [
    "a = [i for i in range(1,100)]\n",
    "# 求长度\n",
    "print(len(a))\n",
    "# 表中最大值\n",
    "print(max(a))\n",
    "# 表中最小值\n",
    "print(min(a))\n",
    "# list() 将其他类型数据转换成list\n",
    "print(list(\"sfasfaf\"))"
   ]
  },
  {
   "cell_type": "code",
   "execution_count": 78,
   "metadata": {},
   "outputs": [
    {
     "name": "stdout",
     "output_type": "stream",
     "text": [
      "1\n",
      "2\n",
      "3\n",
      "4\n",
      "5\n"
     ]
    }
   ],
   "source": [
    "# 首先获得Iterator对象:\n",
    "it = iter([1, 2, 3, 4, 5])\n",
    "# 循环:\n",
    "while True:\n",
    "    try:\n",
    "        # 获得下一个值:\n",
    "        x = next(it)\n",
    "        print(x)\n",
    "    except StopIteration:\n",
    "        # 遇到StopIteration就退出循环\n",
    "        break"
   ]
  }
 ],
 "metadata": {
  "kernelspec": {
   "display_name": "Python 3",
   "language": "python",
   "name": "python3"
  },
  "language_info": {
   "codemirror_mode": {
    "name": "ipython",
    "version": 3
   },
   "file_extension": ".py",
   "mimetype": "text/x-python",
   "name": "python",
   "nbconvert_exporter": "python",
   "pygments_lexer": "ipython3",
   "version": "3.7.0"
  }
 },
 "nbformat": 4,
 "nbformat_minor": 2
}
