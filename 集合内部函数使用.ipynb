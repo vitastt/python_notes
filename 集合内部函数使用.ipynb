{
 "cells": [
  {
   "cell_type": "code",
   "execution_count": 1,
   "metadata": {},
   "outputs": [
    {
     "name": "stdout",
     "output_type": "stream",
     "text": [
      "[1, 2, 3, 4, 5]\n",
      "[1, 2, 100, 4, 5]\n",
      "[1, 2, 100, 4, 5]\n",
      "1\n",
      "101\n",
      "1\n"
     ]
    }
   ],
   "source": [
    "# 变量传值，及传址的问题\n",
    "# 1.对于单纯字符串、数字类型，传入函数时等于将值传入函数，对原本变量没有变化\n",
    "# 2.对于对象集合，传入的是其地址，函数内操作对象会对外部变量产生影响\n",
    "def a(n):\n",
    "    n[2] = 100\n",
    "    print(n)\n",
    "def b(n):\n",
    "    n += 100\n",
    "    print(n)\n",
    "an = [1,2,3,4,5]\n",
    "bn = 1\n",
    "\n",
    "print(an)\n",
    "a(an)\n",
    "print(an)\n",
    "\n",
    "print(bn)\n",
    "b(bn)\n",
    "print(bn)"
   ]
  },
  {
   "cell_type": "markdown",
   "metadata": {},
   "source": [
    "# 列表函数操作"
   ]
  },
  {
   "cell_type": "code",
   "execution_count": 11,
   "metadata": {},
   "outputs": [
    {
     "name": "stdout",
     "output_type": "stream",
     "text": [
      "[1, 2, 3, 'i am qiqi', 25]\n",
      "[1, 2, 3, 'i am qiqi', 25, 'append的']\n",
      "[1, 2, 3, 'insert的', 'i am qiqi', 25, 'append的']\n",
      "[1, 3, 'insert的', 'i am qiqi', 25, 'append的']\n",
      "[1, 3, 'insert的', 'i am qiqi', 25] pop出的是： append的\n",
      "[1, 'insert的', 'i am qiqi', 25]\n"
     ]
    }
   ],
   "source": [
    "l = [1,2,3,\"i am qiqi\",5*5]\n",
    "print(l)\n",
    "\n",
    "# append(data) 在集合末尾追加内容\n",
    "l.append(\"append的\")\n",
    "print(l)\n",
    "\n",
    "# insert(index,data) 在指定位置插入内容\n",
    "l.insert(3,\"insert的\")\n",
    "print(l)\n",
    "\n",
    "# del() 删除内容，按下标删除，下标必须存在否则报错\n",
    "del(l[1])\n",
    "print(l)\n",
    "\n",
    "# pop() 取出最后一个元素,并赋值给其他变量\n",
    "last = l.pop()\n",
    "print(l,\"pop出的是：\",last)\n",
    "\n",
    "# remove() 删除内容，按值删除, 该值必须存在，否则报错\n",
    "l.remove(3)\n",
    "print(l)"
   ]
  },
  {
   "cell_type": "code",
   "execution_count": 12,
   "metadata": {},
   "outputs": [
    {
     "name": "stdout",
     "output_type": "stream",
     "text": [
      "[]\n"
     ]
    }
   ],
   "source": [
    "# clear() 清空内容，但原集合依然存在，id(l)地址不变\n",
    "l.clear()\n",
    "print(l)"
   ]
  },
  {
   "cell_type": "code",
   "execution_count": 13,
   "metadata": {},
   "outputs": [
    {
     "name": "stdout",
     "output_type": "stream",
     "text": [
      "[1, 2, 3, 4, 5]\n",
      "[5, 4, 3, 2, 1]\n"
     ]
    }
   ],
   "source": [
    "# reverse() 翻转\n",
    "a = [1,2,3,4,5]\n",
    "print(a)\n",
    "a.reverse()\n",
    "print(a)"
   ]
  },
  {
   "cell_type": "code",
   "execution_count": 15,
   "metadata": {},
   "outputs": [
    {
     "name": "stdout",
     "output_type": "stream",
     "text": [
      "140545423736328\n",
      "140545423757832\n",
      "[1, 2, 3, 4, 5, 6, 7, 8, 9, 10]\n",
      "140545423736328\n"
     ]
    }
   ],
   "source": [
    "# extend() 集合扩展，将两个集合被并称一个集合\n",
    "a = [1,2,3,4,5]\n",
    "b = [6,7,8,9,10]\n",
    "print(id(a))\n",
    "print(id(b))\n",
    "a.extend(b)\n",
    "print(a)\n",
    "print(id(a))"
   ]
  },
  {
   "cell_type": "code",
   "execution_count": 21,
   "metadata": {},
   "outputs": [
    {
     "name": "stdout",
     "output_type": "stream",
     "text": [
      "[1, 2, 3, 4, 5, 6, 7, 8, 9, 10, 6, 6]\n",
      "3\n"
     ]
    }
   ],
   "source": [
    "# count() 返回集合中莫元素的数量\n",
    "a.append(6)\n",
    "c = a.count(6)\n",
    "print(a)\n",
    "print(c)"
   ]
  },
  {
   "cell_type": "code",
   "execution_count": 25,
   "metadata": {},
   "outputs": [
    {
     "name": "stdout",
     "output_type": "stream",
     "text": [
      "[1, 2, 3, 4, 5]\n",
      "[1, 100, 3, 4, 5]\n",
      "[1, 2, 3, 4, 5]\n"
     ]
    }
   ],
   "source": [
    "# copy 浅拷贝，只拷贝内容\n",
    "# -----> 集合直接赋值属于传地址操作，改一个另一个同样带动\n",
    "m = [1,2,3,4,5]\n",
    "n = m.copy()\n",
    "print(n)\n",
    "m[1] = 100\n",
    "print(m)\n",
    "print(n)"
   ]
  },
  {
   "cell_type": "code",
   "execution_count": 29,
   "metadata": {},
   "outputs": [
    {
     "name": "stdout",
     "output_type": "stream",
     "text": [
      "140545423698568\n",
      "140545423698184\n",
      "140545423757704\n",
      "140545423757704\n",
      "[1, 99, 3, [4, 100, 6]]\n",
      "[1, 2, 3, [4, 100, 6]]\n"
     ]
    }
   ],
   "source": [
    "# 浅拷贝 与 深拷贝的区别\n",
    "# 浅拷贝只拷贝一层内容，里层集合内容是赋址操作\n",
    "# 深拷贝函数没有，需要特殊插件\n",
    "a = [1,2,3,[4,5,6]]\n",
    "b = a.copy()\n",
    "# 外层集合\n",
    "print(id(a))\n",
    "print(id(b))\n",
    "# 内层集合\n",
    "print(id(a[3]))\n",
    "print(id(b[3]))\n",
    "a[3][1] = 100\n",
    "a[1] = 99\n",
    "print(a)\n",
    "print(b)"
   ]
  }
 ],
 "metadata": {
  "kernelspec": {
   "display_name": "Python 3",
   "language": "python",
   "name": "python3"
  },
  "language_info": {
   "codemirror_mode": {
    "name": "ipython",
    "version": 3
   },
   "file_extension": ".py",
   "mimetype": "text/x-python",
   "name": "python",
   "nbconvert_exporter": "python",
   "pygments_lexer": "ipython3",
   "version": "3.7.0"
  }
 },
 "nbformat": 4,
 "nbformat_minor": 2
}
